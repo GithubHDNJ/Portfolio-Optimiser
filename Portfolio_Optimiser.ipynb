{
 "cells": [
  {
   "cell_type": "markdown",
   "id": "8acfe31b-6a47-416a-aea7-d217c83fbc9d",
   "metadata": {},
   "source": [
    "# Portfolio Optimiser"
   ]
  },
  {
   "cell_type": "markdown",
   "id": "5f781d0f-67c6-4e1a-99f5-eb62b45aeb00",
   "metadata": {},
   "source": [
    "### Portfolio Optimization using Modern Portfolio Theory (MPT) in Python.\n",
    "\n",
    "Modern Portfolio Theory (MPT), developed by Harry Markowitz, is a fundamental concept in investment management. It provides a framework for investors to build portfolios that optimize returns for a given level of risk tolerance.\n",
    "\n",
    "The core principles behind MPT are as follows:\n",
    "\n",
    "### Risk-Return Trade-off:  \n",
    "    MPT acknowledges the inherent relationship between risk and return in investments. Higher potential returns are typically associated with higher risks of loss.\n",
    "\n",
    "### Diversification:  \n",
    "    A core principle of MPT is diversification. By holding a variety of assets with different risk-return profiles in your portfolio, you can potentially reduce the overall risk without sacrificing expected returns.\n",
    "\n",
    "### Expected Return and Risk:  \n",
    "    MPT focuses on expected return, the average return an investor anticipates from an investment over a specific period ad well as quantified risk measurement (volatility/standard deviation)\n",
    "\n",
    "### Efficient Frontier:  \n",
    "    MPT helps identify the set of optimal portfolios that offer the highest expected return for a given level of risk, or the lowest risk for a given expected return. This set of portfolios is visualized as the \"efficient frontier.\"\n",
    "\n",
    "### Risk Aversion:  \n",
    "    MPT assumes investors are generally risk-averse. Given two portfolios with similar expected returns, investors would prefer the one with lower risk.\n",
    "\n"
   ]
  },
  {
   "cell_type": "code",
   "execution_count": 217,
   "id": "91beaa24-b91a-4ed9-9df1-21b3301c3aa1",
   "metadata": {},
   "outputs": [],
   "source": [
    "# ----------- Importing Modules ----------- #\n",
    "import numpy as np\n",
    "import pandas as pd\n",
    "import seaborn as sn\n",
    "import time\n",
    "from datetime import datetime\n",
    "from bokeh.models import ColumnDataSource, CrosshairTool, HoverTool, NumeralTickFormatter\n",
    "from bokeh.plotting import figure, show"
   ]
  },
  {
   "cell_type": "markdown",
   "id": "4a05ddd2-7b27-4f94-91e2-732b6ee9cc7c",
   "metadata": {},
   "source": [
    "### User defined global variables, classes, and functions"
   ]
  },
  {
   "cell_type": "markdown",
   "id": "a8d1a139-ccd7-4250-8ee6-095c6ec05530",
   "metadata": {},
   "source": [
    "### Variables"
   ]
  },
  {
   "cell_type": "code",
   "execution_count": 218,
   "id": "339419ed-7e58-4f5d-a164-26583db6d184",
   "metadata": {},
   "outputs": [],
   "source": [
    "''' \n",
    "    Initialise all variables, note that the risk free rate of return is \n",
    "    usally defined by the rate of return on government bonds\n",
    "'''\n",
    "\n",
    "api_key = \"Your API Key\"\n",
    "trade_days = 252\n",
    "risk_free_return = 0\n",
    "random_seed = 255\n",
    "num_iter = 1000"
   ]
  },
  {
   "cell_type": "markdown",
   "id": "147170d3-6d3b-43c7-b0e4-02695b958d22",
   "metadata": {},
   "source": [
    "### Classes"
   ]
  },
  {
   "cell_type": "code",
   "execution_count": 219,
   "id": "6bfa3126-27a8-476f-94df-3906c0c04017",
   "metadata": {},
   "outputs": [],
   "source": [
    "# Initialise a portfolio class\n",
    "\n",
    "''' \n",
    "    _portfolio  = dataframe storing portfolio data\n",
    "    _stock_list = list of stocks in the portfolio\n",
    "    _weight     = weight of each stock, stored as vector\n",
    "    _rfr        = risk free rate of return\n",
    "'''\n",
    "class _Portfolio:\n",
    "    # defined risk free rate of return, default set at 2%, adjust according to country specific rfr\n",
    "    rfr = 0.01\n",
    "\n",
    "    # initialise class with portfolio dataframe, weight vector, and risk-free-return rate properties\n",
    "    def __init__(self, _portfolio, _stock_list, _weight):\n",
    "        self.port       = _portfolio\n",
    "        self.stock_list = _stock_list\n",
    "        self.weight     = _weight\n",
    "\n",
    "    # set the risk free rate of return\n",
    "    def set_rfr(self, rate):\n",
    "        rfr = rate\n",
    "\n",
    "    # calculates returns portfolio % change from previous column    \n",
    "    def returns_port(self):\n",
    "        return self.port.pct_change().ffill()\n",
    "    \n",
    "    # calculates the covariance matrix, multiply by number of trade days\n",
    "    def cov_matrix(self):\n",
    "        return self.returns_port().cov()\n",
    "    \n",
    "    # calculation of porfolio variance, np.multidot() can't be used here since matrix multiplication isn't commutative\n",
    "    def port_var(self):\n",
    "        return np.dot(np.transpose(self.weight),np.dot(self.cov_matrix(),self.weight))\n",
    "\n",
    "    # calcualtion of porfolio volatility\n",
    "    def port_vol(self):\n",
    "        return np.sqrt(self.port_var())\n",
    "    \n",
    "    # annualise the porfolio volatility\n",
    "    def port_vol_annualised(self):\n",
    "        return np.sqrt(self.port_var())*np.sqrt(trade_days)    \n",
    "\n",
    "    # Monte Carlo method of generating randomised portfolios\n",
    "    def montecarlo_portfolio_generator(self, port_iter = 1000):\n",
    "        # initialise lists for portfolio returns, volatility, and weights\n",
    "        port_returns = []\n",
    "        port_volatility = []\n",
    "        port_weights = []\n",
    "\n",
    "        # calculate average inidividual returns on each stock/asset\n",
    "        individual_ret = self.returns_port().mean()\n",
    "        num_assets = len(self.port.columns)\n",
    "        \n",
    "        # set random seed\n",
    "        np.random.seed(random_seed)\n",
    "\n",
    "        for p in range(port_iter):\n",
    "            # randomly generate weights, such that they sum up to 1\n",
    "            # append to the portfolio weights list\n",
    "            weights = np.random.random(num_assets)\n",
    "            weights = weights/np.sum(weights)\n",
    "            self.weight = weights\n",
    "            port_weights.append(weights)\n",
    "\n",
    "            # returns = weights dot product individual E[returns]\n",
    "            # append to returns list\n",
    "            returns = np.dot(individual_ret, weights)\n",
    "            port_returns.append(returns)\n",
    "\n",
    "            # compute portfolio variance, standard deviation, and volatility\n",
    "            vol = self.port_vol_annualised()\n",
    "            port_volatility.append(vol)\n",
    "\n",
    "        # create a dictionary of returns & volatility\n",
    "        dict_ret_vol = {'returns':port_returns, 'volatility':port_volatility}\n",
    "        \n",
    "        for i, stock in enumerate(self.port.columns.tolist()):\n",
    "            dict_ret_vol[stock] = [w[i] for w in port_weights]\n",
    "        \n",
    "        _mc = pd.DataFrame(dict_ret_vol)\n",
    "        _mc = _mc.dropna()\n",
    "        _mc = _mc.reset_index(drop=True)\n",
    "\n",
    "        return _mc\n",
    "      \n",
    "    # returns the minimum volatility portfolio\n",
    "    def min_vol_portfolio(self):\n",
    "        port_sim = self.montecarlo_portfolio_generator()\n",
    "        return port_sim.loc[port_sim['volatility'].idxmin()]\n",
    "    \n",
    "    # returns the optimal sharpe ratio portfolio\n",
    "    def sharpe_ratio_portfolio(self):\n",
    "        port_sim = self.montecarlo_portfolio_generator()\n",
    "        p = port_sim\n",
    "        p['sharpe'] = (port_sim['returns']-self.rfr)/port_sim['volatility']\n",
    "        return port_sim.loc[p['sharpe'].idxmax()]\n",
    "    \n",
    "    def max_return_portfolio(self):\n",
    "        port_sim = self.montecarlo_portfolio_generator()\n",
    "        return port_sim.loc[port_sim['returns'].idxmax()]"
   ]
  },
  {
   "cell_type": "markdown",
   "id": "0028d760-59ed-4483-98e2-f70819d60afb",
   "metadata": {},
   "source": [
    "### Global Functions"
   ]
  },
  {
   "cell_type": "code",
   "execution_count": 220,
   "id": "dd5b6610",
   "metadata": {},
   "outputs": [],
   "source": [
    "# Import dependencies, yahoo finance, requests, and session rate limiters\n",
    "import yfinance as yf\n",
    "from requests import Session\n",
    "from requests_cache import CacheMixin, SQLiteCache\n",
    "from requests_ratelimiter import LimiterMixin, MemoryQueueBucket\n",
    "from pyrate_limiter import Duration, RequestRate, Limiter\n",
    "from pandas_datareader import data as pdr\n",
    "\n",
    "class CachedLimiterSession(CacheMixin, LimiterMixin, Session):\n",
    "    pass\n",
    "\n",
    "session = CachedLimiterSession(\n",
    "    limiter=Limiter(RequestRate(2, Duration.SECOND*5)),  # max 2 requests per 5 seconds\n",
    "    bucket_class=MemoryQueueBucket,\n",
    "    backend=SQLiteCache(\"yfinance.cache\"),\n",
    ")\n",
    "\n",
    "session.headers['User-agent'] = 'Portfolio_Optimiser ver 1.0'\n",
    "\n",
    "# override with pandas_datareader data format\n",
    "yf.pdr_override()\n",
    "\n",
    "# define a function to generate a dataframe from data obtained from google finance\n",
    "def generate_portfolio(stock_list, start_date, end_date):\n",
    "    data = pdr.get_data_yahoo(stock_list,start=start_date,end=end_date,session=session)\n",
    "    return data"
   ]
  },
  {
   "cell_type": "markdown",
   "id": "b54df263-afac-4679-8812-1a631d54795d",
   "metadata": {},
   "source": [
    "### Main function\n",
    "\n",
    "The historical data is obtained via the Alpha Vantage API, for more information visit \n",
    "https://www.alphavantage.co/documentation/. The user will need to register to obtain a presonal API key. (non-commercial use of the API is free)"
   ]
  },
  {
   "cell_type": "code",
   "execution_count": 221,
   "id": "1e48dbb2-7b15-4c62-b49e-c648cf08a4c3",
   "metadata": {},
   "outputs": [],
   "source": [
    "'''\n",
    "Define all the variable inputs here\n",
    "'''\n",
    "# Define start/end dates here, as well as the personal API key obtained\n",
    "start_date = '2019-01-01'\n",
    "end_date = '2024-01-01'\n",
    "# api_key = input(\"Please input your finnhub API key:\")\n",
    "\n",
    "# read CSV file for list of stocks\n",
    "csv_file = input(\"Please input file path:\")\n",
    "try:\n",
    "    stocks_file = pd.read_csv(csv_file, delimiter=None, header=None)\n",
    "    stock_list = stocks_file.iloc[:,0].tolist()\n",
    "except FileNotFoundError:\n",
    "    print(\"Error: File not found!\")"
   ]
  },
  {
   "cell_type": "markdown",
   "id": "90504ca5-21d1-4747-9746-2785e3ee5362",
   "metadata": {},
   "source": [
    "### Portfolio generation and calculations"
   ]
  },
  {
   "cell_type": "code",
   "execution_count": 222,
   "id": "0a070998",
   "metadata": {},
   "outputs": [
    {
     "name": "stderr",
     "output_type": "stream",
     "text": [
      "[*********************100%%**********************]  6 of 6 completed\n"
     ]
    }
   ],
   "source": [
    "# Generate a porfolio, accessing the data from the API\n",
    "portfolio_data = generate_portfolio(stock_list, start_date, end_date)"
   ]
  },
  {
   "cell_type": "code",
   "execution_count": 223,
   "id": "3deee1e5",
   "metadata": {},
   "outputs": [],
   "source": [
    "# Preformat the dataframe before declaring the class object\n",
    "portfolio_data = portfolio_data.iloc[:,:len(stock_list)]\n",
    "portfolio_data = portfolio_data.set_axis(stock_list, axis='columns')\n",
    "\n",
    "# Generate a random initial weighting\n",
    "num_stocks = len(stock_list)\n",
    "w = np.random.random(num_stocks)\n",
    "w = w/np.sum(w)"
   ]
  },
  {
   "cell_type": "code",
   "execution_count": 224,
   "id": "45a88dca",
   "metadata": {},
   "outputs": [],
   "source": [
    "# Initialise an instance of the Portfolio class\n",
    "portfolio_v1 = _Portfolio(portfolio_data, stock_list, w)"
   ]
  },
  {
   "cell_type": "code",
   "execution_count": 225,
   "id": "d20ad9ed-cb26-43c3-93de-5d1cfafae185",
   "metadata": {},
   "outputs": [
    {
     "name": "stdout",
     "output_type": "stream",
     "text": [
      "returns       0.001439\n",
      "volatility    0.304025\n",
      "AAPL          0.228374\n",
      "GOOGL         0.265785\n",
      "AMZN          0.059946\n",
      "NVDA          0.331716\n",
      "CELH          0.077794\n",
      "TSLA          0.036385\n",
      "Name: 710, dtype: float64\n"
     ]
    }
   ],
   "source": [
    "# find the minimum volatility, max sharpe ratio, max returns portfolio\n",
    "min_volatiliy_portfolio_v1 = portfolio_v1.min_vol_portfolio()\n",
    "\n",
    "print(min_volatiliy_portfolio_v1)"
   ]
  },
  {
   "cell_type": "code",
   "execution_count": 226,
   "id": "2ee742d2",
   "metadata": {},
   "outputs": [
    {
     "name": "stdout",
     "output_type": "stream",
     "text": [
      "returns       0.003070\n",
      "volatility    0.481900\n",
      "AAPL          0.030895\n",
      "GOOGL         0.082567\n",
      "AMZN          0.439226\n",
      "NVDA          0.075235\n",
      "CELH          0.121701\n",
      "TSLA          0.250376\n",
      "Name: 6, dtype: float64\n"
     ]
    }
   ],
   "source": [
    "max_return_portfolio_v1 = portfolio_v1.max_return_portfolio()\n",
    "\n",
    "print(max_return_portfolio_v1)"
   ]
  },
  {
   "cell_type": "code",
   "execution_count": 227,
   "id": "b71b4449",
   "metadata": {},
   "outputs": [
    {
     "name": "stdout",
     "output_type": "stream",
     "text": [
      "returns       0.003037\n",
      "volatility    0.492672\n",
      "AAPL          0.088537\n",
      "GOOGL         0.148493\n",
      "AMZN          0.519777\n",
      "NVDA          0.044322\n",
      "CELH          0.090647\n",
      "TSLA          0.108224\n",
      "sharpe       -0.034431\n",
      "Name: 895, dtype: float64\n"
     ]
    }
   ],
   "source": [
    "sharpe_portfolio_v1 = portfolio_v1.sharpe_ratio_portfolio()\n",
    "\n",
    "print(sharpe_portfolio_v1)\n"
   ]
  },
  {
   "cell_type": "code",
   "execution_count": 228,
   "id": "1d49c109",
   "metadata": {},
   "outputs": [],
   "source": [
    "'''\n",
    "Plots the efficiency frontier of the various simulated portfolios, \n",
    "and plots pie charts for the lowest risk portfolio, the optimal sharpe ratio portfolio, and the maximal returns portfolio\n",
    "'''\n",
    "portfolio_mc = portfolio_v1.montecarlo_portfolio_generator()\n",
    "\n",
    "p = figure(height=700, width=800, title=\"Efficient frontier. Number of simulated portfolios: \" + str(num_iter),\n",
    "            tools='box_zoom,wheel_zoom,reset', toolbar_location='above')\n",
    "p.add_tools(CrosshairTool(line_alpha=1, line_color='black', line_width=1))\n",
    "p.add_tools(HoverTool(tooltips=None))\n",
    "data_source = {'risk': portfolio_mc['volatility'], 'returns': portfolio_mc['returns']}\n",
    "source = ColumnDataSource(data=data_source)\n",
    "p.scatter(x='risk', y='returns', source=source, line_alpha=0, hover_color='navy', alpha=0.4, hover_alpha=1, size=8)\n",
    "show(p)\n"
   ]
  },
  {
   "cell_type": "code",
   "execution_count": 229,
   "id": "e2d771e8",
   "metadata": {},
   "outputs": [],
   "source": [
    "min_vol = portfolio_v1.min_vol_portfolio()\n",
    "max_sharpe = portfolio_v1.sharpe_ratio_portfolio()\n",
    "max_return = portfolio_v1.max_return_portfolio()\n",
    "p.scatter(min_vol['returns'], min_vol['volatility'], color='blue', legend_label='Portfolio with minimum risk', size=10)\n",
    "p.scatter(max_sharpe['returns'], max_sharpe['volatility'], color='green', legend_label='Portfolio with maximal Sharpe ratio', size=12)\n",
    "p.scatter(max_return['returns'], max_return['volatility'], color='red', legend_label='Portfolio with maximal return', size=9)\n",
    "p.legend.location = \"top_left\"\n",
    "p.xaxis.axis_label = 'Volatility/Risk (standard deviation)'\n",
    "p.yaxis.axis_label = 'Annual return'\n",
    "p.xaxis[0].formatter = NumeralTickFormatter(format=\"0.0%\")\n",
    "p.yaxis[0].formatter = NumeralTickFormatter(format=\"0.0%\")\n",
    "show(p)"
   ]
  },
  {
   "cell_type": "markdown",
   "id": "3559fcf8-5b1f-49a2-abae-8deffab06c48",
   "metadata": {},
   "source": [
    "### Assumptions of MPT\n",
    "\n",
    "Market Efficiency:\n",
    " MPT assumes a relatively efficient market where all available information is reflected in asset prices. Prices adjust quickly to new information, and there are no arbitrage opportunities.\n",
    "\n",
    "Normal Distribution of Returns:\n",
    " MPT often uses statistical measures like standard deviation to quantify risk. This assumes asset returns are normally distributed.\n",
    "\n",
    "Stationary Returns and Correlations:\n",
    " MPT calculations rely on historical data to estimate expected returns and correlations between assets. The theory assumes these characteristics are relatively stable over time.\n",
    "\n",
    "Focus on Mean-Variance Optimization:\n",
    " MPT optimizes portfolios based on mean (expected return) and variance (risk) but doesn't consider other potential return distributions or risk measures.\n",
    "\n",
    "### Limitations of MPT\n",
    "\n",
    "The assumptions differ from what the market is in reality, and are the factors that limit the application of MPT, in the real world,\n",
    "the market isn't perfectly efficient, the returns aren't necessarily normally distributed, and the returns/volatility interpolated from historical data doesn't necessarily correlate to behaviour in the future. Thus the model itself can be supplemented with machine learning algorithms, and consideration of more variables in terms of risks and returns."
   ]
  }
 ],
 "metadata": {
  "kernelspec": {
   "display_name": "Python 3 (ipykernel)",
   "language": "python",
   "name": "python3"
  },
  "language_info": {
   "codemirror_mode": {
    "name": "ipython",
    "version": 3
   },
   "file_extension": ".py",
   "mimetype": "text/x-python",
   "name": "python",
   "nbconvert_exporter": "python",
   "pygments_lexer": "ipython3",
   "version": "3.11.4"
  }
 },
 "nbformat": 4,
 "nbformat_minor": 5
}
